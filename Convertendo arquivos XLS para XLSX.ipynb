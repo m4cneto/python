{
 "cells": [
  {
   "cell_type": "markdown",
   "id": "36aa0f1c",
   "metadata": {},
   "source": [
    "## Convertendo arquivos XLS para XLSX"
   ]
  },
  {
   "cell_type": "markdown",
   "id": "ef2c30b8",
   "metadata": {},
   "source": [
    "## Importando as bibliotecas"
   ]
  },
  {
   "cell_type": "code",
   "execution_count": 1,
   "id": "889a5459",
   "metadata": {},
   "outputs": [],
   "source": [
    "import os\n",
    "import pandas as pd"
   ]
  },
  {
   "cell_type": "markdown",
   "id": "c75a8668",
   "metadata": {},
   "source": [
    "### Definindo o local de origem e destino dos arquivos "
   ]
  },
  {
   "cell_type": "code",
   "execution_count": 2,
   "id": "30e0c1ec",
   "metadata": {},
   "outputs": [],
   "source": [
    "local_origem = (r\"C:\\Users\\User\\Documents\\local_origem\")\n",
    "local_destino = (r\"C:\\Users\\User\\Documents\\local_destino\")"
   ]
  },
  {
   "cell_type": "markdown",
   "id": "97f75ac1",
   "metadata": {},
   "source": [
    "### Listando os arquivos no local origem que terminam com XLS e salvando eles no local destino no formato XLSX"
   ]
  },
  {
   "cell_type": "code",
   "execution_count": 3,
   "id": "def2f809",
   "metadata": {},
   "outputs": [],
   "source": [
    "for arquivo in os.listdir(local_origem):\n",
    "    if arquivo.endswith('.xls'):\n",
    "        df = pd.read_html(f'{local_origem}/{arquivo}')\n",
    "        df = pd.DataFrame(df[0])\n",
    "        df.to_excel(f'{local_destino}/{arquivo}.xlsx', index=False)"
   ]
  }
 ],
 "metadata": {
  "kernelspec": {
   "display_name": "Python 3",
   "language": "python",
   "name": "python3"
  },
  "language_info": {
   "codemirror_mode": {
    "name": "ipython",
    "version": 3
   },
   "file_extension": ".py",
   "mimetype": "text/x-python",
   "name": "python",
   "nbconvert_exporter": "python",
   "pygments_lexer": "ipython3",
   "version": "3.9.5"
  }
 },
 "nbformat": 4,
 "nbformat_minor": 5
}
